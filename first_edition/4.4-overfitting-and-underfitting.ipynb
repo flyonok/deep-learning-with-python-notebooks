{
 "cells": [
  {
   "cell_type": "code",
   "execution_count": 1,
   "metadata": {},
   "outputs": [
    {
     "data": {
      "text/plain": [
       "'2.2.4-tf'"
      ]
     },
     "execution_count": 1,
     "metadata": {},
     "output_type": "execute_result"
    }
   ],
   "source": [
    "import tensorflow.keras as keras\n",
    "keras.__version__"
   ]
  },
  {
   "cell_type": "markdown",
   "metadata": {},
   "source": [
    "# Overfitting and underfitting\n",
    "\n",
    "This notebook contains the code samples found in Chapter 3, Section 6 of [Deep Learning with Python](https://www.manning.com/books/deep-learning-with-python?a_aid=keras&a_bid=76564dff). Note that the original text features far more content, in particular further explanations and figures: in this notebook, you will only find source code and related comments.\n",
    "\n",
    "----\n",
    "\n",
    "\n",
    "In all the examples we saw in the previous chapter -- movie review sentiment prediction, topic classification, and house price regression -- \n",
    "we could notice that the performance of our model on the held-out validation data would always peak after a few epochs and would then start \n",
    "degrading, i.e. our model would quickly start to _overfit_ to the training data. Overfitting happens in every single machine learning \n",
    "problem. Learning how to deal with overfitting is essential to mastering machine learning.\n",
    "\n",
    "The fundamental issue in machine learning is the tension between optimization and generalization. \"Optimization\" refers to the process of \n",
    "adjusting a model to get the best performance possible on the training data (the \"learning\" in \"machine learning\"), while \"generalization\" \n",
    "refers to how well the trained model would perform on data it has never seen before. The goal of the game is to get good generalization, of \n",
    "course, but you do not control generalization; you can only adjust the model based on its training data.\n",
    "\n",
    "At the beginning of training, optimization and generalization are correlated: the lower your loss on training data, the lower your loss on \n",
    "test data. While this is happening, your model is said to be _under-fit_: there is still progress to be made; the network hasn't yet \n",
    "modeled all relevant patterns in the training data. But after a certain number of iterations on the training data, generalization stops \n",
    "improving, validation metrics stall then start degrading: the model is then starting to over-fit, i.e. is it starting to learn patterns \n",
    "that are specific to the training data but that are misleading or irrelevant when it comes to new data.\n",
    "\n",
    "To prevent a model from learning misleading or irrelevant patterns found in the training data, _the best solution is of course to get \n",
    "more training data_. A model trained on more data will naturally generalize better. When that is no longer possible, the next best solution \n",
    "is to modulate the quantity of information that your model is allowed to store, or to add constraints on what information it is allowed to \n",
    "store. If a network can only afford to memorize a small number of patterns, the optimization process will force it to focus on the most \n",
    "prominent patterns, which have a better chance of generalizing well.\n",
    "\n",
    "The processing of fighting overfitting in this way is called _regularization_. Let's review some of the most common regularization \n",
    "techniques, and let's apply them in practice to improve our movie classification model from  the previous chapter."
   ]
  },
  {
   "cell_type": "markdown",
   "metadata": {},
   "source": [
    "Note: in this notebook we will be using the IMDB test set as our validation set. It doesn't matter in this context.\n",
    "\n",
    "Let's prepare the data using the code from Chapter 3, Section 5:"
   ]
  },
  {
   "cell_type": "code",
   "execution_count": 2,
   "metadata": {
    "collapsed": true
   },
   "outputs": [
    {
     "name": "stderr",
     "output_type": "stream",
     "text": [
      "D:\\ProgramData\\Anaconda3\\envs\\tfgpu2.3.0\\lib\\site-packages\\tensorflow_core\\python\\keras\\datasets\\imdb.py:129: VisibleDeprecationWarning: Creating an ndarray from ragged nested sequences (which is a list-or-tuple of lists-or-tuples-or ndarrays with different lengths or shapes) is deprecated. If you meant to do this, you must specify 'dtype=object' when creating the ndarray\n",
      "  x_train, y_train = np.array(xs[:idx]), np.array(labels[:idx])\n",
      "D:\\ProgramData\\Anaconda3\\envs\\tfgpu2.3.0\\lib\\site-packages\\tensorflow_core\\python\\keras\\datasets\\imdb.py:130: VisibleDeprecationWarning: Creating an ndarray from ragged nested sequences (which is a list-or-tuple of lists-or-tuples-or ndarrays with different lengths or shapes) is deprecated. If you meant to do this, you must specify 'dtype=object' when creating the ndarray\n",
      "  x_test, y_test = np.array(xs[idx:]), np.array(labels[idx:])\n"
     ]
    }
   ],
   "source": [
    "from tensorflow.keras.datasets import imdb\n",
    "import numpy as np\n",
    "\n",
    "(train_data, train_labels), (test_data, test_labels) = imdb.load_data(num_words=10000)\n",
    "\n",
    "def vectorize_sequences(sequences, dimension=10000):\n",
    "    # Create an all-zero matrix of shape (len(sequences), dimension)\n",
    "    results = np.zeros((len(sequences), dimension))\n",
    "    for i, sequence in enumerate(sequences):\n",
    "        results[i, sequence] = 1.  # set specific indices of results[i] to 1s\n",
    "    return results\n",
    "\n",
    "# Our vectorized training data\n",
    "x_train = vectorize_sequences(train_data)\n",
    "# Our vectorized test data\n",
    "x_test = vectorize_sequences(test_data)\n",
    "# Our vectorized labels\n",
    "y_train = np.asarray(train_labels).astype('float32')\n",
    "y_test = np.asarray(test_labels).astype('float32')"
   ]
  },
  {
   "cell_type": "code",
   "execution_count": 3,
   "metadata": {},
   "outputs": [
    {
     "data": {
      "text/plain": [
       "1"
      ]
     },
     "metadata": {},
     "output_type": "display_data"
    }
   ],
   "source": [
    "from IPython.display import display\n",
    "display(1)"
   ]
  },
  {
   "cell_type": "code",
   "execution_count": 7,
   "metadata": {},
   "outputs": [
    {
     "data": {
      "text/plain": [
       "218"
      ]
     },
     "metadata": {},
     "output_type": "display_data"
    },
    {
     "data": {
      "text/plain": [
       "10000"
      ]
     },
     "metadata": {},
     "output_type": "display_data"
    }
   ],
   "source": [
    "# for item in train_data:\n",
    "#     display(len(item))\n",
    "# display(x_train)\n",
    "# display(len(train_data))\n",
    "display(len(train_data[0]))\n",
    "display(len(x_train[0]))"
   ]
  },
  {
   "cell_type": "markdown",
   "metadata": {},
   "source": [
    "# Fighting overfitting\n",
    "\n",
    "## Reducing the network's size\n",
    "\n",
    "\n",
    "The simplest way to prevent overfitting is to reduce the size of the model, i.e. the number of learnable parameters in the model (which is \n",
    "determined by the number of layers and the number of units per layer). In deep learning, the number of learnable parameters in a model is \n",
    "often referred to as the model's \"capacity\". Intuitively, a model with more parameters will have more \"memorization capacity\" and therefore \n",
    "will be able to easily learn a perfect dictionary-like mapping between training samples and their targets, a mapping without any \n",
    "generalization power. For instance, a model with 500,000 binary parameters could easily be made to learn the class of every digits in the \n",
    "MNIST training set: we would only need 10 binary parameters for each of the 50,000 digits. Such a model would be useless for classifying \n",
    "new digit samples. Always keep this in mind: deep learning models tend to be good at fitting to the training data, but the real challenge \n",
    "is generalization, not fitting.\n",
    "\n",
    "On the other hand, if the network has limited memorization resources, it will not be able to learn this mapping as easily, and thus, in \n",
    "order to minimize its loss, it will have to resort to learning compressed representations that have predictive power regarding the targets \n",
    "-- precisely the type of representations that we are interested in. At the same time, keep in mind that you should be using models that have \n",
    "enough parameters that they won't be underfitting: your model shouldn't be starved for memorization resources. There is a compromise to be \n",
    "found between \"too much capacity\" and \"not enough capacity\".\n",
    "\n",
    "Unfortunately, there is no magical formula to determine what the right number of layers is, or what the right size for each layer is. You \n",
    "will have to evaluate an array of different architectures (on your validation set, not on your test set, of course) in order to find the \n",
    "right model size for your data. The general workflow to find an appropriate model size is to start with relatively few layers and \n",
    "parameters, and start increasing the size of the layers or adding new layers until you see diminishing returns with regard to the \n",
    "validation loss.\n",
    "\n",
    "Let's try this on our movie review classification network. Our original network was as such:"
   ]
  },
  {
   "cell_type": "code",
   "execution_count": 3,
   "metadata": {
    "collapsed": true
   },
   "outputs": [],
   "source": [
    "from tensorflow.keras import models\n",
    "from tensorflow.keras import layers\n",
    "\n",
    "original_model = models.Sequential()\n",
    "original_model.add(layers.Dense(16, activation='relu', input_shape=(10000,)))\n",
    "original_model.add(layers.Dense(16, activation='relu'))\n",
    "original_model.add(layers.Dense(1, activation='sigmoid'))\n",
    "\n",
    "original_model.compile(optimizer='rmsprop',\n",
    "                       loss='binary_crossentropy',\n",
    "                       metrics=['acc'])"
   ]
  },
  {
   "cell_type": "markdown",
   "metadata": {},
   "source": [
    "Now let's try to replace it with this smaller network:"
   ]
  },
  {
   "cell_type": "code",
   "execution_count": 4,
   "metadata": {
    "collapsed": true
   },
   "outputs": [],
   "source": [
    "smaller_model = models.Sequential()\n",
    "smaller_model.add(layers.Dense(4, activation='relu', input_shape=(10000,)))\n",
    "smaller_model.add(layers.Dense(4, activation='relu'))\n",
    "smaller_model.add(layers.Dense(1, activation='sigmoid'))\n",
    "\n",
    "smaller_model.compile(optimizer='rmsprop',\n",
    "                      loss='binary_crossentropy',\n",
    "                      metrics=['acc'])"
   ]
  },
  {
   "cell_type": "markdown",
   "metadata": {},
   "source": [
    "\n",
    "Here's a comparison of the validation losses of the original network and the smaller network. The dots are the validation loss values of \n",
    "the smaller network, and the crosses are the initial network (remember: a lower validation loss signals a better model)."
   ]
  },
  {
   "cell_type": "code",
   "execution_count": 5,
   "metadata": {},
   "outputs": [
    {
     "name": "stdout",
     "output_type": "stream",
     "text": [
      "Train on 25000 samples, validate on 25000 samples\n",
      "Epoch 1/20\n",
      "25000/25000 [==============================] - 2s 89us/sample - loss: 0.4624 - acc: 0.8163 - val_loss: 0.3389 - val_acc: 0.8833\n",
      "Epoch 2/20\n",
      "25000/25000 [==============================] - 1s 60us/sample - loss: 0.2611 - acc: 0.9110 - val_loss: 0.2930 - val_acc: 0.8859\n",
      "Epoch 3/20\n",
      "25000/25000 [==============================] - 1s 58us/sample - loss: 0.2009 - acc: 0.9286 - val_loss: 0.2834 - val_acc: 0.8883\n",
      "Epoch 4/20\n",
      "25000/25000 [==============================] - 1s 60us/sample - loss: 0.1680 - acc: 0.9414 - val_loss: 0.2958 - val_acc: 0.8840\n",
      "Epoch 5/20\n",
      "25000/25000 [==============================] - 2s 61us/sample - loss: 0.1473 - acc: 0.9467 - val_loss: 0.3232 - val_acc: 0.8761\n",
      "Epoch 6/20\n",
      "25000/25000 [==============================] - 1s 59us/sample - loss: 0.1274 - acc: 0.9574 - val_loss: 0.3402 - val_acc: 0.8734\n",
      "Epoch 7/20\n",
      "25000/25000 [==============================] - 2s 60us/sample - loss: 0.1124 - acc: 0.9620 - val_loss: 0.3852 - val_acc: 0.8630\n",
      "Epoch 8/20\n",
      "25000/25000 [==============================] - 1s 59us/sample - loss: 0.1016 - acc: 0.9656 - val_loss: 0.3768 - val_acc: 0.8706\n",
      "Epoch 9/20\n",
      "25000/25000 [==============================] - 1s 60us/sample - loss: 0.0896 - acc: 0.9707 - val_loss: 0.4064 - val_acc: 0.8674\n",
      "Epoch 10/20\n",
      "25000/25000 [==============================] - 1s 59us/sample - loss: 0.0794 - acc: 0.9748 - val_loss: 0.4472 - val_acc: 0.8640\n",
      "Epoch 11/20\n",
      "25000/25000 [==============================] - 1s 59us/sample - loss: 0.0713 - acc: 0.9774 - val_loss: 0.4655 - val_acc: 0.8624\n",
      "Epoch 12/20\n",
      "25000/25000 [==============================] - 2s 60us/sample - loss: 0.0627 - acc: 0.9804 - val_loss: 0.5143 - val_acc: 0.8576\n",
      "Epoch 13/20\n",
      "25000/25000 [==============================] - 2s 60us/sample - loss: 0.0551 - acc: 0.9829 - val_loss: 0.5458 - val_acc: 0.8567\n",
      "Epoch 14/20\n",
      "25000/25000 [==============================] - 1s 58us/sample - loss: 0.0506 - acc: 0.9842 - val_loss: 0.5482 - val_acc: 0.8563\n",
      "Epoch 15/20\n",
      "25000/25000 [==============================] - 1s 60us/sample - loss: 0.0436 - acc: 0.9870 - val_loss: 0.7008 - val_acc: 0.8424\n",
      "Epoch 16/20\n",
      "25000/25000 [==============================] - 2s 67us/sample - loss: 0.0378 - acc: 0.9888 - val_loss: 0.6107 - val_acc: 0.8534\n",
      "Epoch 17/20\n",
      "25000/25000 [==============================] - 1s 58us/sample - loss: 0.0322 - acc: 0.9911 - val_loss: 0.6512 - val_acc: 0.8499\n",
      "Epoch 18/20\n",
      "25000/25000 [==============================] - 1s 60us/sample - loss: 0.0277 - acc: 0.9925 - val_loss: 0.7108 - val_acc: 0.8456\n",
      "Epoch 19/20\n",
      "25000/25000 [==============================] - 2s 61us/sample - loss: 0.0228 - acc: 0.9946 - val_loss: 0.7228 - val_acc: 0.8502\n",
      "Epoch 20/20\n",
      "25000/25000 [==============================] - 1s 57us/sample - loss: 0.0219 - acc: 0.9944 - val_loss: 0.7604 - val_acc: 0.8485\n"
     ]
    }
   ],
   "source": [
    "original_hist = original_model.fit(x_train, y_train,\n",
    "                                   epochs=20,\n",
    "                                   batch_size=512,\n",
    "                                   validation_data=(x_test, y_test))"
   ]
  },
  {
   "cell_type": "code",
   "execution_count": 6,
   "metadata": {},
   "outputs": [
    {
     "name": "stdout",
     "output_type": "stream",
     "text": [
      "Train on 25000 samples, validate on 25000 samples\n",
      "Epoch 1/20\n",
      "25000/25000 [==============================] - 2s 87us/sample - loss: 0.6259 - acc: 0.6784 - val_loss: 0.5766 - val_acc: 0.7920\n",
      "Epoch 2/20\n",
      "25000/25000 [==============================] - 1s 60us/sample - loss: 0.5320 - acc: 0.8080 - val_loss: 0.5187 - val_acc: 0.8119\n",
      "Epoch 3/20\n",
      "25000/25000 [==============================] - 1s 58us/sample - loss: 0.4780 - acc: 0.8614 - val_loss: 0.4866 - val_acc: 0.8333\n",
      "Epoch 4/20\n",
      "25000/25000 [==============================] - 1s 60us/sample - loss: 0.4406 - acc: 0.8918 - val_loss: 0.4637 - val_acc: 0.8575\n",
      "Epoch 5/20\n",
      "25000/25000 [==============================] - 1s 58us/sample - loss: 0.4126 - acc: 0.9102 - val_loss: 0.4474 - val_acc: 0.8752\n",
      "Epoch 6/20\n",
      "25000/25000 [==============================] - 1s 60us/sample - loss: 0.3895 - acc: 0.9242 - val_loss: 0.4461 - val_acc: 0.8550\n",
      "Epoch 7/20\n",
      "25000/25000 [==============================] - 2s 63us/sample - loss: 0.3693 - acc: 0.9343 - val_loss: 0.4337 - val_acc: 0.8676\n",
      "Epoch 8/20\n",
      "25000/25000 [==============================] - 2s 74us/sample - loss: 0.3521 - acc: 0.9404 - val_loss: 0.4403 - val_acc: 0.8554\n",
      "Epoch 9/20\n",
      "25000/25000 [==============================] - 2s 68us/sample - loss: 0.3356 - acc: 0.9469 - val_loss: 0.4352 - val_acc: 0.8600\n",
      "Epoch 10/20\n",
      "25000/25000 [==============================] - 2s 61us/sample - loss: 0.3213 - acc: 0.9511 - val_loss: 0.4259 - val_acc: 0.8672\n",
      "Epoch 11/20\n",
      "25000/25000 [==============================] - 2s 62us/sample - loss: 0.3071 - acc: 0.9568 - val_loss: 0.4212 - val_acc: 0.8702\n",
      "Epoch 12/20\n",
      "25000/25000 [==============================] - 2s 64us/sample - loss: 0.2937 - acc: 0.9595 - val_loss: 0.4263 - val_acc: 0.8660\n",
      "Epoch 13/20\n",
      "25000/25000 [==============================] - 2s 62us/sample - loss: 0.2816 - acc: 0.9625 - val_loss: 0.4373 - val_acc: 0.8623\n",
      "Epoch 14/20\n",
      "25000/25000 [==============================] - 2s 62us/sample - loss: 0.2702 - acc: 0.9649 - val_loss: 0.4360 - val_acc: 0.8632\n",
      "Epoch 15/20\n",
      "25000/25000 [==============================] - 2s 63us/sample - loss: 0.2590 - acc: 0.9670 - val_loss: 0.4272 - val_acc: 0.8652\n",
      "Epoch 16/20\n",
      "25000/25000 [==============================] - 2s 63us/sample - loss: 0.2484 - acc: 0.9694 - val_loss: 0.4373 - val_acc: 0.8633\n",
      "Epoch 17/20\n",
      "25000/25000 [==============================] - 2s 62us/sample - loss: 0.2383 - acc: 0.9712 - val_loss: 0.4471 - val_acc: 0.8621\n",
      "Epoch 18/20\n",
      "25000/25000 [==============================] - 2s 65us/sample - loss: 0.2288 - acc: 0.9730 - val_loss: 0.4461 - val_acc: 0.8624\n",
      "Epoch 19/20\n",
      "25000/25000 [==============================] - 2s 65us/sample - loss: 0.2194 - acc: 0.9744 - val_loss: 0.4445 - val_acc: 0.8625\n",
      "Epoch 20/20\n",
      "25000/25000 [==============================] - 1s 59us/sample - loss: 0.2109 - acc: 0.9755 - val_loss: 0.4307 - val_acc: 0.8627\n"
     ]
    }
   ],
   "source": [
    "smaller_model_hist = smaller_model.fit(x_train, y_train,\n",
    "                                       epochs=20,\n",
    "                                       batch_size=512,\n",
    "                                       validation_data=(x_test, y_test))"
   ]
  },
  {
   "cell_type": "code",
   "execution_count": 7,
   "metadata": {
    "collapsed": true
   },
   "outputs": [],
   "source": [
    "epochs = range(1, 21)\n",
    "original_val_loss = original_hist.history['val_loss']\n",
    "smaller_model_val_loss = smaller_model_hist.history['val_loss']"
   ]
  },
  {
   "cell_type": "code",
   "execution_count": 8,
   "metadata": {},
   "outputs": [
    {
     "data": {
      "image/png": "[encoded data removed]",
      "text/plain": [
       "<Figure size 432x288 with 1 Axes>"
      ]
     },
     "metadata": {
      "needs_background": "light"
     },
     "output_type": "display_data"
    }
   ],
   "source": [
    "import matplotlib.pyplot as plt\n",
    "\n",
    "# b+ is for \"blue cross\"\n",
    "plt.plot(epochs, original_val_loss, 'b+', label='Original model')\n",
    "# \"bo\" is for \"blue dot\"\n",
    "plt.plot(epochs, smaller_model_val_loss, 'bo', label='Smaller model')\n",
    "plt.xlabel('Epochs')\n",
    "plt.ylabel('Validation loss')\n",
    "plt.legend()\n",
    "\n",
    "plt.show()"
   ]
  },
  {
   "cell_type": "markdown",
   "metadata": {},
   "source": [
    "\n",
    "As you can see, the smaller network starts overfitting later than the reference one (after 6 epochs rather than 4) and its performance \n",
    "degrades much more slowly once it starts overfitting.\n",
    "\n",
    "Now, for kicks, let's add to this benchmark a network that has much more capacity, far more than the problem would warrant:"
   ]
  },
  {
   "cell_type": "code",
   "execution_count": 9,
   "metadata": {
    "collapsed": true
   },
   "outputs": [],
   "source": [
    "bigger_model = models.Sequential()\n",
    "bigger_model.add(layers.Dense(512, activation='relu', input_shape=(10000,)))\n",
    "bigger_model.add(layers.Dense(512, activation='relu'))\n",
    "bigger_model.add(layers.Dense(1, activation='sigmoid'))\n",
    "\n",
    "bigger_model.compile(optimizer='rmsprop',\n",
    "                     loss='binary_crossentropy',\n",
    "                     metrics=['acc'])"
   ]
  },
  {
   "cell_type": "code",
   "execution_count": 10,
   "metadata": {},
   "outputs": [
    {
     "name": "stdout",
     "output_type": "stream",
     "text": [
      "Train on 25000 samples, validate on 25000 samples\n",
      "Epoch 1/20\n",
      "25000/25000 [==============================] - 3s 105us/sample - loss: 0.4516 - acc: 0.8059 - val_loss: 0.3277 - val_acc: 0.8551\n",
      "Epoch 2/20\n",
      "25000/25000 [==============================] - 2s 76us/sample - loss: 0.2127 - acc: 0.9149 - val_loss: 0.2837 - val_acc: 0.8852\n",
      "Epoch 3/20\n",
      "25000/25000 [==============================] - 2s 77us/sample - loss: 0.1244 - acc: 0.9550 - val_loss: 0.3514 - val_acc: 0.8791\n",
      "Epoch 4/20\n",
      "25000/25000 [==============================] - 2s 77us/sample - loss: 0.0603 - acc: 0.9821 - val_loss: 0.5119 - val_acc: 0.8760\n",
      "Epoch 5/20\n",
      "25000/25000 [==============================] - 2s 76us/sample - loss: 0.0657 - acc: 0.9888 - val_loss: 0.5438 - val_acc: 0.8797\n",
      "Epoch 6/20\n",
      "25000/25000 [==============================] - 2s 76us/sample - loss: 0.0567 - acc: 0.9906 - val_loss: 0.5880 - val_acc: 0.8778\n",
      "Epoch 7/20\n",
      "25000/25000 [==============================] - 2s 77us/sample - loss: 0.0011 - acc: 1.0000 - val_loss: 0.7539 - val_acc: 0.8790\n",
      "Epoch 8/20\n",
      "25000/25000 [==============================] - 2s 78us/sample - loss: 0.1154 - acc: 0.9900 - val_loss: 0.6702 - val_acc: 0.8697\n",
      "Epoch 9/20\n",
      "25000/25000 [==============================] - 2s 82us/sample - loss: 5.1037e-04 - acc: 1.0000 - val_loss: 0.8105 - val_acc: 0.8768\n",
      "Epoch 10/20\n",
      "25000/25000 [==============================] - 2s 76us/sample - loss: 6.6030e-05 - acc: 1.0000 - val_loss: 0.9831 - val_acc: 0.8767\n",
      "Epoch 11/20\n",
      "25000/25000 [==============================] - 2s 75us/sample - loss: 8.8128e-06 - acc: 1.0000 - val_loss: 1.1824 - val_acc: 0.8767\n",
      "Epoch 12/20\n",
      "25000/25000 [==============================] - 2s 77us/sample - loss: 0.1700 - acc: 0.9883 - val_loss: 1.0323 - val_acc: 0.8597\n",
      "Epoch 13/20\n",
      "25000/25000 [==============================] - 2s 76us/sample - loss: 8.4720e-05 - acc: 1.0000 - val_loss: 0.9349 - val_acc: 0.8784\n",
      "Epoch 14/20\n",
      "25000/25000 [==============================] - 2s 78us/sample - loss: 7.6218e-06 - acc: 1.0000 - val_loss: 0.9790 - val_acc: 0.8790\n",
      "Epoch 15/20\n",
      "25000/25000 [==============================] - 2s 76us/sample - loss: 2.9282e-06 - acc: 1.0000 - val_loss: 1.0788 - val_acc: 0.8790\n",
      "Epoch 16/20\n",
      "25000/25000 [==============================] - 2s 77us/sample - loss: 7.9242e-07 - acc: 1.0000 - val_loss: 1.2121 - val_acc: 0.8794\n",
      "Epoch 17/20\n",
      "25000/25000 [==============================] - 2s 77us/sample - loss: 1.8984e-07 - acc: 1.0000 - val_loss: 1.3623 - val_acc: 0.8779\n",
      "Epoch 18/20\n",
      "25000/25000 [==============================] - 2s 76us/sample - loss: 4.9862e-08 - acc: 1.0000 - val_loss: 1.4664 - val_acc: 0.8786\n",
      "Epoch 19/20\n",
      "25000/25000 [==============================] - 2s 76us/sample - loss: 2.1158e-08 - acc: 1.0000 - val_loss: 1.5300 - val_acc: 0.8780\n",
      "Epoch 20/20\n",
      "25000/25000 [==============================] - 2s 75us/sample - loss: 1.3169e-08 - acc: 1.0000 - val_loss: 1.5616 - val_acc: 0.8780\n"
     ]
    }
   ],
   "source": [
    "bigger_model_hist = bigger_model.fit(x_train, y_train,\n",
    "                                     epochs=20,\n",
    "                                     batch_size=512,\n",
    "                                     validation_data=(x_test, y_test))"
   ]
  },
  {
   "cell_type": "markdown",
   "metadata": {},
   "source": [
    "Here's how the bigger network fares compared to the reference one. The dots are the validation loss values of the bigger network, and the \n",
    "crosses are the initial network."
   ]
  },
  {
   "cell_type": "code",
   "execution_count": 11,
   "metadata": {},
   "outputs": [
    {
     "data": {
      "image/png": "[encoded data removed]",
      "text/plain": [
       "<Figure size 432x288 with 1 Axes>"
      ]
     },
     "metadata": {
      "needs_background": "light"
     },
     "output_type": "display_data"
    }
   ],
   "source": [
    "bigger_model_val_loss = bigger_model_hist.history['val_loss']\n",
    "\n",
    "plt.plot(epochs, original_val_loss, 'b+', label='Original model')\n",
    "plt.plot(epochs, bigger_model_val_loss, 'bo', label='Bigger model')\n",
    "plt.xlabel('Epochs')\n",
    "plt.ylabel('Validation loss')\n",
    "plt.legend()\n",
    "\n",
    "plt.show()"
   ]
  },
  {
   "cell_type": "markdown",
   "metadata": {},
   "source": [
    "\n",
    "The bigger network starts overfitting almost right away, after just one epoch, and overfits much more severely. Its validation loss is also \n",
    "more noisy.\n",
    "\n",
    "Meanwhile, here are the training losses for our two networks:"
   ]
  },
  {
   "cell_type": "code",
   "execution_count": 12,
   "metadata": {},
   "outputs": [
    {
     "data": {
      "image/png": "[encoded data removed]",
      "text/plain": [
       "<Figure size 432x288 with 1 Axes>"
      ]
     },
     "metadata": {
      "needs_background": "light"
     },
     "output_type": "display_data"
    }
   ],
   "source": [
    "original_train_loss = original_hist.history['loss']\n",
    "bigger_model_train_loss = bigger_model_hist.history['loss']\n",
    "\n",
    "plt.plot(epochs, original_train_loss, 'b+', label='Original model')\n",
    "plt.plot(epochs, bigger_model_train_loss, 'bo', label='Bigger model')\n",
    "plt.xlabel('Epochs')\n",
    "plt.ylabel('Training loss')\n",
    "plt.legend()\n",
    "\n",
    "plt.show()"
   ]
  },
  {
   "cell_type": "markdown",
   "metadata": {},
   "source": [
    "As you can see, the bigger network gets its training loss near zero very quickly. The more capacity the network has, the quicker it will be \n",
    "able to model the training data (resulting in a low training loss), but the more susceptible it is to overfitting (resulting in a large \n",
    "difference between the training and validation loss)."
   ]
  },
  {
   "cell_type": "markdown",
   "metadata": {},
   "source": [
    "## Adding weight regularization\n",
    "\n",
    "\n",
    "You may be familiar with _Occam's Razor_ principle: given two explanations for something, the explanation most likely to be correct is the \n",
    "\"simplest\" one, the one that makes the least amount of assumptions. This also applies to the models learned by neural networks: given some \n",
    "training data and a network architecture, there are multiple sets of weights values (multiple _models_) that could explain the data, and \n",
    "simpler models are less likely to overfit than complex ones.\n",
    "\n",
    "A \"simple model\" in this context is a model where the distribution of parameter values has less entropy (or a model with fewer \n",
    "parameters altogether, as we saw in the section above). Thus a common way to mitigate overfitting is to put constraints on the complexity \n",
    "of a network by forcing its weights to only take small values, which makes the distribution of weight values more \"regular\". This is called \n",
    "\"weight regularization\", and it is done by adding to the loss function of the network a _cost_ associated with having large weights. This \n",
    "cost comes in two flavors:\n",
    "\n",
    "* L1 regularization, where the cost added is proportional to the _absolute value of the weights coefficients_ (i.e. to what is called the \n",
    "\"L1 norm\" of the weights).\n",
    "* L2 regularization, where the cost added is proportional to the _square of the value of the weights coefficients_ (i.e. to what is called \n",
    "the \"L2 norm\" of the weights). L2 regularization is also called _weight decay_ in the context of neural networks. Don't let the different \n",
    "name confuse you: weight decay is mathematically the exact same as L2 regularization.\n",
    "\n",
    "In Keras, weight regularization is added by passing _weight regularizer instances_ to layers as keyword arguments. Let's add L2 weight \n",
    "regularization to our movie review classification network:"
   ]
  },
  {
   "cell_type": "code",
   "execution_count": 13,
   "metadata": {
    "collapsed": true
   },
   "outputs": [],
   "source": [
    "from tensorflow.keras import regularizers\n",
    "\n",
    "l2_model = models.Sequential()\n",
    "l2_model.add(layers.Dense(16, kernel_regularizer=regularizers.l2(0.001),\n",
    "                          activation='relu', input_shape=(10000,)))\n",
    "l2_model.add(layers.Dense(16, kernel_regularizer=regularizers.l2(0.001),\n",
    "                          activation='relu'))\n",
    "l2_model.add(layers.Dense(1, activation='sigmoid'))"
   ]
  },
  {
   "cell_type": "code",
   "execution_count": 14,
   "metadata": {
    "collapsed": true
   },
   "outputs": [],
   "source": [
    "l2_model.compile(optimizer='rmsprop',\n",
    "                 loss='binary_crossentropy',\n",
    "                 metrics=['acc'])"
   ]
  },
  {
   "cell_type": "markdown",
   "metadata": {},
   "source": [
    "`l2(0.001)` means that every coefficient in the weight matrix of the layer will add `0.001 * weight_coefficient_value` to the total loss of \n",
    "the network. Note that because this penalty is _only added at training time_, the loss for this network will be much higher at training \n",
    "than at test time.\n",
    "\n",
    "Here's the impact of our L2 regularization penalty:"
   ]
  },
  {
   "cell_type": "code",
   "execution_count": 15,
   "metadata": {},
   "outputs": [
    {
     "name": "stdout",
     "output_type": "stream",
     "text": [
      "Train on 25000 samples, validate on 25000 samples\n",
      "Epoch 1/20\n",
      "25000/25000 [==============================] - 2s 96us/sample - loss: 0.5306 - acc: 0.8124 - val_loss: 0.4135 - val_acc: 0.8733\n",
      "Epoch 2/20\n",
      "25000/25000 [==============================] - 1s 60us/sample - loss: 0.3400 - acc: 0.9015 - val_loss: 0.3513 - val_acc: 0.8848\n",
      "Epoch 3/20\n",
      "25000/25000 [==============================] - 2s 64us/sample - loss: 0.2857 - acc: 0.9160 - val_loss: 0.3309 - val_acc: 0.8894\n",
      "Epoch 4/20\n",
      "25000/25000 [==============================] - 2s 63us/sample - loss: 0.2621 - acc: 0.9246 - val_loss: 0.3489 - val_acc: 0.8789\n",
      "Epoch 5/20\n",
      "25000/25000 [==============================] - 2s 64us/sample - loss: 0.2447 - acc: 0.9311 - val_loss: 0.3433 - val_acc: 0.8831\n",
      "Epoch 6/20\n",
      "25000/25000 [==============================] - 2s 62us/sample - loss: 0.2356 - acc: 0.9352 - val_loss: 0.3638 - val_acc: 0.8760\n",
      "Epoch 7/20\n",
      "25000/25000 [==============================] - 2s 61us/sample - loss: 0.2283 - acc: 0.9377 - val_loss: 0.3507 - val_acc: 0.8803\n",
      "Epoch 8/20\n",
      "25000/25000 [==============================] - 2s 60us/sample - loss: 0.2203 - acc: 0.9420 - val_loss: 0.3830 - val_acc: 0.8718\n",
      "Epoch 9/20\n",
      "25000/25000 [==============================] - 2s 63us/sample - loss: 0.2153 - acc: 0.9435 - val_loss: 0.3819 - val_acc: 0.8740\n",
      "Epoch 10/20\n",
      "25000/25000 [==============================] - 1s 59us/sample - loss: 0.2135 - acc: 0.9430 - val_loss: 0.3718 - val_acc: 0.8767\n",
      "Epoch 11/20\n",
      "25000/25000 [==============================] - 2s 61us/sample - loss: 0.2080 - acc: 0.9445 - val_loss: 0.4241 - val_acc: 0.8598\n",
      "Epoch 12/20\n",
      "25000/25000 [==============================] - 2s 63us/sample - loss: 0.2046 - acc: 0.9464 - val_loss: 0.3806 - val_acc: 0.8749\n",
      "Epoch 13/20\n",
      "25000/25000 [==============================] - 2s 61us/sample - loss: 0.1966 - acc: 0.9514 - val_loss: 0.4045 - val_acc: 0.8689\n",
      "Epoch 14/20\n",
      "25000/25000 [==============================] - 2s 63us/sample - loss: 0.2034 - acc: 0.9464 - val_loss: 0.4014 - val_acc: 0.8708\n",
      "Epoch 15/20\n",
      "25000/25000 [==============================] - 2s 62us/sample - loss: 0.1970 - acc: 0.9495 - val_loss: 0.4154 - val_acc: 0.8668\n",
      "Epoch 16/20\n",
      "25000/25000 [==============================] - 2s 62us/sample - loss: 0.1936 - acc: 0.9494 - val_loss: 0.4212 - val_acc: 0.8655\n",
      "Epoch 17/20\n",
      "25000/25000 [==============================] - 2s 63us/sample - loss: 0.1880 - acc: 0.9523 - val_loss: 0.4364 - val_acc: 0.8614\n",
      "Epoch 18/20\n",
      "25000/25000 [==============================] - 2s 62us/sample - loss: 0.1915 - acc: 0.9508 - val_loss: 0.4113 - val_acc: 0.8698\n",
      "Epoch 19/20\n",
      "25000/25000 [==============================] - 2s 62us/sample - loss: 0.1868 - acc: 0.9518 - val_loss: 0.4338 - val_acc: 0.8632\n",
      "Epoch 20/20\n",
      "25000/25000 [==============================] - 1s 60us/sample - loss: 0.1841 - acc: 0.9536 - val_loss: 0.4168 - val_acc: 0.8688\n"
     ]
    }
   ],
   "source": [
    "l2_model_hist = l2_model.fit(x_train, y_train,\n",
    "                             epochs=20,\n",
    "                             batch_size=512,\n",
    "                             validation_data=(x_test, y_test))"
   ]
  },
  {
   "cell_type": "code",
   "execution_count": 16,
   "metadata": {},
   "outputs": [
    {
     "data": {
      "image/png": "[encoded data removed]",
      "text/plain": [
       "<Figure size 432x288 with 1 Axes>"
      ]
     },
     "metadata": {
      "needs_background": "light"
     },
     "output_type": "display_data"
    }
   ],
   "source": [
    "l2_model_val_loss = l2_model_hist.history['val_loss']\n",
    "\n",
    "plt.plot(epochs, original_val_loss, 'b+', label='Original model')\n",
    "plt.plot(epochs, l2_model_val_loss, 'bo', label='L2-regularized model')\n",
    "plt.xlabel('Epochs')\n",
    "plt.ylabel('Validation loss')\n",
    "plt.legend()\n",
    "\n",
    "plt.show()"
   ]
  },
  {
   "cell_type": "markdown",
   "metadata": {},
   "source": [
    "\n",
    "\n",
    "As you can see, the model with L2 regularization (dots) has become much more resistant to overfitting than the reference model (crosses), \n",
    "even though both models have the same number of parameters.\n",
    "\n",
    "As alternatives to L2 regularization, you could use one of the following Keras weight regularizers:"
   ]
  },
  {
   "cell_type": "code",
   "execution_count": 17,
   "metadata": {
    "collapsed": true
   },
   "outputs": [
    {
     "data": {
      "text/plain": [
       "<tensorflow.python.keras.regularizers.L1L2 at 0x18bfee28e88>"
      ]
     },
     "execution_count": 17,
     "metadata": {},
     "output_type": "execute_result"
    }
   ],
   "source": [
    "from tensorflow.keras import regularizers\n",
    "\n",
    "# L1 regularization\n",
    "regularizers.l1(0.001)\n",
    "\n",
    "# L1 and L2 regularization at the same time\n",
    "regularizers.l1_l2(l1=0.001, l2=0.001)"
   ]
  },
  {
   "cell_type": "markdown",
   "metadata": {},
   "source": [
    "## Adding dropout\n",
    "\n",
    "\n",
    "Dropout is one of the most effective and most commonly used regularization techniques for neural networks, developed by Hinton and his \n",
    "students at the University of Toronto. Dropout, applied to a layer, consists of randomly \"dropping out\" (i.e. setting to zero) a number of \n",
    "output features of the layer during training. Let's say a given layer would normally have returned a vector `[0.2, 0.5, 1.3, 0.8, 1.1]` for a \n",
    "given input sample during training; after applying dropout, this vector will have a few zero entries distributed at random, e.g. `[0, 0.5, \n",
    "1.3, 0, 1.1]`. The \"dropout rate\" is the fraction of the features that are being zeroed-out; it is usually set between 0.2 and 0.5. At test \n",
    "time, no units are dropped out, and instead the layer's output values are scaled down by a factor equal to the dropout rate, so as to \n",
    "balance for the fact that more units are active than at training time.\n",
    "\n",
    "Consider a Numpy matrix containing the output of a layer, `layer_output`, of shape `(batch_size, features)`. At training time, we would be \n",
    "zero-ing out at random a fraction of the values in the matrix:"
   ]
  },
  {
   "cell_type": "code",
   "execution_count": null,
   "metadata": {
    "collapsed": true
   },
   "outputs": [],
   "source": [
    "# At training time: we drop out 50% of the units in the output\n",
    "layer_output *= np.randint(0, high=2, size=layer_output.shape)"
   ]
  },
  {
   "cell_type": "markdown",
   "metadata": {},
   "source": [
    "\n",
    "At test time, we would be scaling the output down by the dropout rate. Here we scale by 0.5 (because we were previous dropping half the \n",
    "units):"
   ]
  },
  {
   "cell_type": "code",
   "execution_count": null,
   "metadata": {
    "collapsed": true
   },
   "outputs": [],
   "source": [
    "# At test time:\n",
    "layer_output *= 0.5"
   ]
  },
  {
   "cell_type": "markdown",
   "metadata": {},
   "source": [
    "\n",
    "Note that this process can be implemented by doing both operations at training time and leaving the output unchanged at test time, which is \n",
    "often the way it is implemented in practice:"
   ]
  },
  {
   "cell_type": "code",
   "execution_count": null,
   "metadata": {
    "collapsed": true
   },
   "outputs": [],
   "source": [
    "# At training time:\n",
    "layer_output *= np.randint(0, high=2, size=layer_output.shape)\n",
    "# Note that we are scaling *up* rather scaling *down* in this case\n",
    "layer_output /= 0.5"
   ]
  },
  {
   "cell_type": "markdown",
   "metadata": {},
   "source": [
    "\n",
    "This technique may seem strange and arbitrary. Why would this help reduce overfitting? Geoff Hinton has said that he was inspired, among \n",
    "other things, by a fraud prevention mechanism used by banks -- in his own words: _\"I went to my bank. The tellers kept changing and I asked \n",
    "one of them why. He said he didn’t know but they got moved around a lot. I figured it must be because it would require cooperation \n",
    "between employees to successfully defraud the bank. This made me realize that randomly removing a different subset of neurons on each \n",
    "example would prevent conspiracies and thus reduce overfitting\"_.\n",
    "\n",
    "The core idea is that introducing noise in the output values of a layer can break up happenstance patterns that are not significant (what \n",
    "Hinton refers to as \"conspiracies\"), which the network would start memorizing if no noise was present. \n",
    "\n",
    "In Keras you can introduce dropout in a network via the `Dropout` layer, which gets applied to the output of layer right before it, e.g.:"
   ]
  },
  {
   "cell_type": "code",
   "execution_count": null,
   "metadata": {
    "collapsed": true
   },
   "outputs": [],
   "source": [
    "model.add(layers.Dropout(0.5))"
   ]
  },
  {
   "cell_type": "markdown",
   "metadata": {},
   "source": [
    "Let's add two `Dropout` layers in our IMDB network to see how well they do at reducing overfitting:"
   ]
  },
  {
   "cell_type": "code",
   "execution_count": 17,
   "metadata": {
    "collapsed": true
   },
   "outputs": [],
   "source": [
    "dpt_model = models.Sequential()\n",
    "dpt_model.add(layers.Dense(16, activation='relu', input_shape=(10000,)))\n",
    "dpt_model.add(layers.Dropout(0.5))\n",
    "dpt_model.add(layers.Dense(16, activation='relu'))\n",
    "dpt_model.add(layers.Dropout(0.5))\n",
    "dpt_model.add(layers.Dense(1, activation='sigmoid'))\n",
    "\n",
    "dpt_model.compile(optimizer='rmsprop',\n",
    "                  loss='binary_crossentropy',\n",
    "                  metrics=['acc'])"
   ]
  },
  {
   "cell_type": "code",
   "execution_count": 18,
   "metadata": {},
   "outputs": [
    {
     "name": "stdout",
     "output_type": "stream",
     "text": [
      "Train on 25000 samples, validate on 25000 samples\n",
      "Epoch 1/20\n",
      "25000/25000 [==============================] - 3s 101us/sample - loss: 0.6099 - acc: 0.6672 - val_loss: 0.4761 - val_acc: 0.8546\n",
      "Epoch 2/20\n",
      "25000/25000 [==============================] - 2s 63us/sample - loss: 0.4507 - acc: 0.8093 - val_loss: 0.3464 - val_acc: 0.8803\n",
      "Epoch 3/20\n",
      "25000/25000 [==============================] - 2s 62us/sample - loss: 0.3566 - acc: 0.8607 - val_loss: 0.2980 - val_acc: 0.8838\n",
      "Epoch 4/20\n",
      "25000/25000 [==============================] - 2s 62us/sample - loss: 0.2964 - acc: 0.8896 - val_loss: 0.2864 - val_acc: 0.8838\n",
      "Epoch 5/20\n",
      "25000/25000 [==============================] - 2s 62us/sample - loss: 0.2568 - acc: 0.9103 - val_loss: 0.2775 - val_acc: 0.8896\n",
      "Epoch 6/20\n",
      "25000/25000 [==============================] - 2s 62us/sample - loss: 0.2268 - acc: 0.9186 - val_loss: 0.2941 - val_acc: 0.8867\n",
      "Epoch 7/20\n",
      "25000/25000 [==============================] - 2s 65us/sample - loss: 0.2019 - acc: 0.9285 - val_loss: 0.3107 - val_acc: 0.8855\n",
      "Epoch 8/20\n",
      "25000/25000 [==============================] - 2s 62us/sample - loss: 0.1860 - acc: 0.9348 - val_loss: 0.3257 - val_acc: 0.8868\n",
      "Epoch 9/20\n",
      "25000/25000 [==============================] - 2s 61us/sample - loss: 0.1694 - acc: 0.9420 - val_loss: 0.3432 - val_acc: 0.8844\n",
      "Epoch 10/20\n",
      "25000/25000 [==============================] - 2s 62us/sample - loss: 0.1595 - acc: 0.9444 - val_loss: 0.3754 - val_acc: 0.8849\n",
      "Epoch 11/20\n",
      "25000/25000 [==============================] - 2s 63us/sample - loss: 0.1489 - acc: 0.9490 - val_loss: 0.3900 - val_acc: 0.8820\n",
      "Epoch 12/20\n",
      "25000/25000 [==============================] - 2s 62us/sample - loss: 0.1399 - acc: 0.9500 - val_loss: 0.4186 - val_acc: 0.8816\n",
      "Epoch 13/20\n",
      "25000/25000 [==============================] - 2s 63us/sample - loss: 0.1311 - acc: 0.9540 - val_loss: 0.4485 - val_acc: 0.8806\n",
      "Epoch 14/20\n",
      "25000/25000 [==============================] - 2s 63us/sample - loss: 0.1243 - acc: 0.9556 - val_loss: 0.4549 - val_acc: 0.8784\n",
      "Epoch 15/20\n",
      "25000/25000 [==============================] - 2s 63us/sample - loss: 0.1254 - acc: 0.9554 - val_loss: 0.4790 - val_acc: 0.8782\n",
      "Epoch 16/20\n",
      "25000/25000 [==============================] - 2s 63us/sample - loss: 0.1208 - acc: 0.9568 - val_loss: 0.4964 - val_acc: 0.8766\n",
      "Epoch 17/20\n",
      "25000/25000 [==============================] - 2s 62us/sample - loss: 0.1199 - acc: 0.9583 - val_loss: 0.5200 - val_acc: 0.8760\n",
      "Epoch 18/20\n",
      "25000/25000 [==============================] - 2s 64us/sample - loss: 0.1136 - acc: 0.9580 - val_loss: 0.5366 - val_acc: 0.8757\n",
      "Epoch 19/20\n",
      "25000/25000 [==============================] - 2s 63us/sample - loss: 0.1112 - acc: 0.9588 - val_loss: 0.5510 - val_acc: 0.8749\n",
      "Epoch 20/20\n",
      "25000/25000 [==============================] - 2s 60us/sample - loss: 0.1135 - acc: 0.9596 - val_loss: 0.5834 - val_acc: 0.8748\n"
     ]
    }
   ],
   "source": [
    "dpt_model_hist = dpt_model.fit(x_train, y_train,\n",
    "                               epochs=20,\n",
    "                               batch_size=512,\n",
    "                               validation_data=(x_test, y_test))"
   ]
  },
  {
   "cell_type": "markdown",
   "metadata": {},
   "source": [
    "Let's plot the results:"
   ]
  },
  {
   "cell_type": "code",
   "execution_count": 19,
   "metadata": {},
   "outputs": [
    {
     "data": {
      "image/png": "[encoded data removed]",
      "text/plain": [
       "<Figure size 432x288 with 1 Axes>"
      ]
     },
     "metadata": {
      "needs_background": "light"
     },
     "output_type": "display_data"
    }
   ],
   "source": [
    "dpt_model_val_loss = dpt_model_hist.history['val_loss']\n",
    "\n",
    "plt.plot(epochs, original_val_loss, 'b+', label='Original model')\n",
    "plt.plot(epochs, dpt_model_val_loss, 'bo', label='Dropout-regularized model')\n",
    "plt.xlabel('Epochs')\n",
    "plt.ylabel('Validation loss')\n",
    "plt.legend()\n",
    "\n",
    "plt.show()"
   ]
  },
  {
   "cell_type": "markdown",
   "metadata": {},
   "source": [
    "\n",
    "Again, a clear improvement over the reference network.\n",
    "\n",
    "To recap: here the most common ways to prevent overfitting in neural networks:\n",
    "\n",
    "* Getting more training data.\n",
    "* Reducing the capacity of the network.\n",
    "* Adding weight regularization.\n",
    "* Adding dropout."
   ]
  }
 ],
 "metadata": {
  "kernelspec": {
   "display_name": "Python 3",
   "language": "python",
   "name": "python3"
  },
  "language_info": {
   "codemirror_mode": {
    "name": "ipython",
    "version": 3
   },
   "file_extension": ".py",
   "mimetype": "text/x-python",
   "name": "python",
   "nbconvert_exporter": "python",
   "pygments_lexer": "ipython3",
   "version": "3.7.9"
  }
 },
 "nbformat": 4,
 "nbformat_minor": 2
}
